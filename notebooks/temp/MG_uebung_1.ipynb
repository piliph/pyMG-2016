{
 "nbformat_minor": 0, 
 "nbformat": 4, 
 "cells": [
  {
   "source": [
    "<center> \n", 
    "<h1> Mehrgittermethoden </h1> \n", 
    "<h2> Übungsaufgaben </h2>\n", 
    "<h3> Robert Speck & Dieter Moser, Sommersemester 2016 </h3>\n", 
    "</center>\n", 
    "___\n"
   ], 
   "cell_type": "markdown", 
   "metadata": {}
  }, 
  {
   "source": [
    "### Das Kroneckerprodukt\n", 
    "\n", 
    "Ist $A$ eine $m\\times n$-Matrix und $B$ eine $p\\times r$-Matrix, so ist das Kronecker-Produkt $C = A \\otimes B$ definiert als\n", 
    "    $$C = (a_{ij} \\cdot B) =\\begin{pmatrix} a_{11} B & \\cdots & a_{1n} B \\\\ \\vdots & \\ddots & \\vdots \\\\ a_{m1} B & \\cdots & a_{mn} B \\end{pmatrix}.$$\n", 
    "    \n", 
    "1. Ist das Kronecker-Produkt kommutativ?\n", 
    "\n", 
    "1. Zeigen Sie: \n", 
    "\n", 
    "    1. $A\\otimes (B+C)=A\\otimes B+A\\otimes C $\n", 
    "    \n", 
    "    1. $AC\\otimes BD=(A\\otimes B)(C\\otimes D)$\n", 
    "    \n", 
    "    1. $\\mathrm{Spur}(A \\otimes B) = \\mathrm{Spur}(A) \\cdot \\mathrm{Spur}(B)$\n", 
    "\n", 
    "1. Zeigen Sie: \n", 
    "\n", 
    "    1. Sind $\\{\\lambda_i\\}_{i=1..n}$ die Eigenwerte von $A$ und $\\{\\mu_j\\}_{j=1..m}$ die Eigenwerte von $B$ dann sind    $\\{\\lambda_i \\, \\mu_j\\}_{i=1..n \\atop j=1..m}$ die Eigenwerte von $A \\otimes B$.\n", 
    "\n", 
    "    1. Für die Spektralnorm gilt $\\| A \\otimes B \\|_2 = \\| A \\|_2 \\cdot \\| B \\|_2$. \n", 
    "\n", 
    "    1. Sind $A,B$ invertierbar, so ist die Inverse $(A\\otimes B)^{-1}=A^{-1} \\otimes B^{-1}$. \n", 
    "---"
   ], 
   "cell_type": "markdown", 
   "metadata": {}
  }, 
  {
   "source": [], 
   "cell_type": "markdown", 
   "metadata": {}
  }, 
  {
   "source": [
    "### Das Gauß-Seidel-Verfahren\n", 
    "Hier werden Sie zum ersten Mal das *pyMG*-Framework erweitern. Implementieren Sie Ihre Verfahren im Ordner *project* und nutzen Sie unter allen Umständen die vorgegebenen Klassen aus dem Ordner *pymg*. Zur Beantwortung von Fragen mit Code-Unterstützung (wie Teilaufgabe 1) arbeiten Sie bitte direkt in diesem Jupyter Notebook, evtl. mit Unterstützung von eigenen Skripten aus dem *bin* Ordner.   \n", 
    "\n", 
    "1. Implementieren Sie das Gauß-Seidel-Verfahren und wenden Sie es für das Modellproblem $-\\Delta u = 0$ mit $N=63$ Freiheitsgraden an. Nutzen Sie dazu als Anfangswerte die Fourier-Moden $w_2$ und $w_{16}$ sowie $(w_2+w_{16})/2$. Plotten Sie jeweils die Lösung nach 1 und nach 10 Iterationen und erklären Sie die Ergebnisse.\n", 
    "1. Dokumentieren Sie den Code mit Hilfe des Sphinx-Frameworks (siehe Readme).\n", 
    "\n", 
    "Erstellen Sie einen Release (welches auch das bearbeitete Notebook enthält) und reichen Sie den Link zum Release ein. Bei Einreichung wird dieses Notebook ausgeführt und erzeugt eine html-Version, die dann zur Korrektur genutzt wird. Achten Sie daher darauf, dass das Notebook ohne Fehler ausführbar ist und alle gewünschten Lösungen/Erklärungen enthält. \n", 
    "\n", 
    "Zur Bewertung dieser Aufgabe werden das Notebook, die Dokumentation und die Commit-Messages einbegezogen."
   ], 
   "cell_type": "markdown", 
   "metadata": {}
  }, 
  {
   "execution_count": 3, 
   "cell_type": "code", 
   "source": [
    "import matplotlib.pyplot as plt\n", 
    "import numpy as np\n", 
    "from matplotlib import rc\n", 
    "import scipy.sparse.linalg as spLA\n", 
    "from project.poisson1d import Poisson1D\n", 
    "from project.gauss_seidel import  GaussSeidel\n", 
    "\n", 
    "if __name__ == \"__main__\":\n", 
    "\n", 
    "    rc('font', family='sans-serif', size=32)\n", 
    "    rc('legend', fontsize='small')\n", 
    "    rc('xtick', labelsize='small')\n", 
    "    rc('ytick', labelsize='small')\n", 
    "\n", 
    "    fig = plt.subplots(figsize=(15, 8))\n", 
    "\n", 
    "    ndofs = 63\n", 
    "    prob = Poisson1D(ndofs)\n", 
    "    smoo = GaussSeidel(prob.A)\n", 
    "\n", 
    "    xvalues = np.array([(i + 1) * prob.dx for i in range(prob.ndofs)])\n", 
    "    rhs = np.sin(np.pi * 2 * xvalues)\n", 
    "    uex = spLA.spsolve(smoo.A, rhs)\n", 
    "\n", 
    "    u = uex\n", 
    "    for i in range(10):\n", 
    "        u = smoo.smooth(rhs, u)\n", 
    "        if i == 1 or i == 10:\n", 
    "            plt.plot(xvalues, u)\n", 
    "\n", 
    "    plt.show()\n", 
    "\n", 
    "    rhs = np.sin(np.pi * 16 * xvalues)\n", 
    "\n", 
    "    u = uex\n", 
    "    for i in range(10):\n", 
    "        u = smoo.smooth(rhs, u)\n", 
    "        if i == 1 or i == 10:\n", 
    "            plt.plot(xvalues, u)\n", 
    "\n", 
    "    plt.show()\n", 
    "\n", 
    "    rhs = (np.sin(np.pi * 2 * xvalues) + np.sin(np.pi * 16 * xvalues))/2\n", 
    "\n", 
    "    u = uex\n", 
    "    for i in range(10):\n", 
    "        u = smoo.smooth(rhs, u)\n", 
    "        if i == 1 or i == 10:\n", 
    "            plt.plot(xvalues, u)\n", 
    "\n", 
    "    plt.show()"
   ], 
   "outputs": [
    {
     "ename": "ImportError", 
     "evalue": "No module named project.poisson1d", 
     "traceback": [
      "\u001b[1;31m---------------------------------------------------------------------------\u001b[0m", 
      "\u001b[1;31mImportError\u001b[0m                               Traceback (most recent call last)", 
      "\u001b[1;32m<ipython-input-3-5ce7708d073c>\u001b[0m in \u001b[0;36m<module>\u001b[1;34m()\u001b[0m\n\u001b[0;32m      3\u001b[0m \u001b[1;32mfrom\u001b[0m \u001b[0mmatplotlib\u001b[0m \u001b[1;32mimport\u001b[0m \u001b[0mrc\u001b[0m\u001b[1;33m\u001b[0m\u001b[0m\n\u001b[0;32m      4\u001b[0m \u001b[1;32mimport\u001b[0m \u001b[0mscipy\u001b[0m\u001b[1;33m.\u001b[0m\u001b[0msparse\u001b[0m\u001b[1;33m.\u001b[0m\u001b[0mlinalg\u001b[0m \u001b[1;32mas\u001b[0m \u001b[0mspLA\u001b[0m\u001b[1;33m\u001b[0m\u001b[0m\n\u001b[1;32m----> 5\u001b[1;33m \u001b[1;32mfrom\u001b[0m \u001b[0mproject\u001b[0m\u001b[1;33m.\u001b[0m\u001b[0mpoisson1d\u001b[0m \u001b[1;32mimport\u001b[0m \u001b[0mPoisson1D\u001b[0m\u001b[1;33m\u001b[0m\u001b[0m\n\u001b[0m\u001b[0;32m      6\u001b[0m \u001b[1;32mfrom\u001b[0m \u001b[0mproject\u001b[0m\u001b[1;33m.\u001b[0m\u001b[0mgauss_seidel\u001b[0m \u001b[1;32mimport\u001b[0m  \u001b[0mGaussSeidel\u001b[0m\u001b[1;33m\u001b[0m\u001b[0m\n\u001b[0;32m      7\u001b[0m \u001b[1;33m\u001b[0m\u001b[0m\n", 
      "\u001b[1;31mImportError\u001b[0m: No module named project.poisson1d"
     ], 
     "output_type": "error"
    }
   ], 
   "metadata": {
    "collapsed": false
   }
  }, 
  {
   "execution_count": null, 
   "cell_type": "code", 
   "source": [], 
   "outputs": [], 
   "metadata": {
    "collapsed": true
   }
  }, 
  {
   "execution_count": null, 
   "cell_type": "code", 
   "source": [], 
   "outputs": [], 
   "metadata": {
    "collapsed": true
   }
  }
 ], 
 "metadata": {
  "kernelspec": {
   "display_name": "Python 2", 
   "name": "python2", 
   "language": "python"
  }, 
  "language_info": {
   "mimetype": "text/x-python", 
   "nbconvert_exporter": "python", 
   "name": "python", 
   "file_extension": ".py", 
   "version": "2.7.11", 
   "pygments_lexer": "ipython2", 
   "codemirror_mode": {
    "version": 2, 
    "name": "ipython"
   }
  }
 }
}