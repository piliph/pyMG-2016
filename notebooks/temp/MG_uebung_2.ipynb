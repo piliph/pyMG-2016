{
 "nbformat_minor": 0, 
 "nbformat": 4, 
 "cells": [
  {
   "source": [
    "<center> \n", 
    "<h1> Mehrgittermethoden </h1> \n", 
    "<h2> Übungsaufgaben </h2>\n", 
    "<h3> Robert Speck & Dieter Moser, Sommersemester 2016 </h3>\n", 
    "</center>\n", 
    "___\n"
   ], 
   "cell_type": "markdown", 
   "metadata": {}
  }, 
  {
   "source": [
    "### Über Systemmatrizen\n", 
    "\n", 
    "In der Vorlesung haben wir das Gleichungssytem $Au = f$ für das Possion-Problem in 1D mit Dirichlet-Rändern durch eine Diskretisierung mit Hilfe von zentrierten Finiten Differenzen aufgestellt.\n", 
    "1. Wie sieht das System für periodische Randbedingungen $u(0) = u(1)$ und $u'(0) = u'(1)$ aus? Nutzen Sie die Gitterpunkte $x_0$, $x_1$, ..., $x_{N-1}$. Wie viele Unbekannte hat das Gleichungsssystem?\n", 
    "1. Wie sieht das System mit Dirichlet-Rändern in zwei Dimensionen aus? Nutzen Sie das Kronecker-Produkt zur Darstellung von $A$. Wie viele Unbekannte hat das System nun und wie viele Einträge ungleich Null hat die Systemmatrix?\n", 
    "___"
   ], 
   "cell_type": "markdown", 
   "metadata": {}
  }, 
  {
   "source": [
    "### Die Residuumsgleichung\n", 
    "1. Zeigen Sie für das Modellproblem: Ist der Fehler $e$ sehr glatt (z.B. fast konstant), dann ist das Residuum $r$ im Verhältnis zu $\\lVert A\\rVert \\lVert e\\rVert$ klein und ist der Fehler oszillierend, dann ist das Residuum im Verhältnis groß.\n", 
    "1. Zeigen Sie, dass für ein iteratives Verfahren mit Vorkonditionierer $B$ gilt $e^{(1)} = e^{(0)} - Br^{(0)}$. Was sagt diese Gleichung für die Glättung von Fehlern beim Modellproblem aus (siehe Teilaufgabe 2!)?\n", 
    "___"
   ], 
   "cell_type": "markdown", 
   "metadata": {}
  }, 
  {
   "source": [
    "### Über den Rayleigh-Quotienten\n", 
    "Sei $H$ eine hermitsche Matrix, so definiert sich der zugehörige Rayleigh-Quotient als\n", 
    "$$R_H(x) = \\frac{x^*Hx}{x^*\\cdot x}.$$\n", 
    "\n", 
    "1. Zeigen Sie, dass für den größten bzw. kleinsten Eigenwert $\\lambda_M,\\lambda_m$ von $H$ \n", 
    "$$ \\lambda_m = \\min_x R_H(x) \\; \\mbox{und} \\; \\lambda_M = \\max_x R_H(x) $$\n", 
    "gilt.\n", 
    "1. Sei $H = A^*A$. Zeigen sie, dass $\\max_x R_H(x)^{1/2}$ eine Norm von $A$ ist."
   ], 
   "cell_type": "markdown", 
   "metadata": {}
  }
 ], 
 "metadata": {
  "kernelspec": {
   "display_name": "Python 2", 
   "name": "python2", 
   "language": "python"
  }, 
  "language_info": {
   "mimetype": "text/x-python", 
   "nbconvert_exporter": "python", 
   "name": "python", 
   "file_extension": ".py", 
   "version": "2.7.11", 
   "pygments_lexer": "ipython2", 
   "codemirror_mode": {
    "version": 2, 
    "name": "ipython"
   }
  }
 }
}