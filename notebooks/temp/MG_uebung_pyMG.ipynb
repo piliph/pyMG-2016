{
 "nbformat_minor": 0, 
 "nbformat": 4, 
 "cells": [
  {
   "source": [
    "<center> \n", 
    "<h1> Mehrgittermethoden </h1> \n", 
    "<h2> Übungsaufgaben </h2>\n", 
    "<h3> Robert Speck & Dieter Moser, Sommersemester 2016 </h3>\n", 
    "</center>\n", 
    "___\n"
   ], 
   "cell_type": "markdown", 
   "metadata": {}
  }, 
  {
   "source": [
    "### Erste Schritte mit *pyMG*\n", 
    "\n", 
    "Forken Sie das Repository https://github.com/Parallel-in-Time/pyMG.git und führen Sie folgende Arbeiten durch:\n", 
    "\n", 
    "1. Installieren Sie alle noch fehlenden Pakete (siehe requirements.txt) z.B. via anaconda oder pip nach.\n", 
    "1. Lassen Sie mit Hilfe von nose alle Tests laufen und verifizieren Sie, dass die Basisversion des Codes funktioniert.   Beheben Sie alle auftretenden Fehler!\n", 
    "1. Checken Sie alle Änderungen in Ihr Repository ein und erstellen Sie einen Release bzw. einen Tag. Verwenden Sie aussagekräftige Commit Messages und Release Notes!\n", 
    "\n", 
    "Reichen Sie einen Link zum aktuellen Release als Lösung an [d.moser@fz-juelich.de](mailto:d.moser@fz-juelich.de) ein. Die Aufgabe gilt als bestanden, wenn nose keine Fehler wirft und die Behebung vorheriger Fehler anhand der Commits nachvollzogen werden kann. \n", 
    "\n", 
    "Achtung: Ändern Sie nichts im Verzeichnis *pymg*. Dieses Verzeichnis für die Begutachtung der eingereichten Lösungen überschrieben. Gleiches gilt für das *test* Verzeichnis, sofern die Aufgabe dies nicht explizit erfordert.\n", 
    "___"
   ], 
   "cell_type": "markdown", 
   "metadata": {}
  }
 ], 
 "metadata": {
  "kernelspec": {
   "display_name": "Python 2", 
   "name": "python2", 
   "language": "python"
  }, 
  "language_info": {
   "mimetype": "text/x-python", 
   "nbconvert_exporter": "python", 
   "name": "python", 
   "file_extension": ".py", 
   "version": "2.7.11", 
   "pygments_lexer": "ipython2", 
   "codemirror_mode": {
    "version": 2, 
    "name": "ipython"
   }
  }
 }
}