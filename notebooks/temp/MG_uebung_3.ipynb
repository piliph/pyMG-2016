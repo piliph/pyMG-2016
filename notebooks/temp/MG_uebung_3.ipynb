{
 "nbformat_minor": 0, 
 "nbformat": 4, 
 "cells": [
  {
   "source": [
    "<center> \n", 
    "<h1> Mehrgittermethoden </h1> \n", 
    "<h2> Übungsaufgaben </h2>\n", 
    "<h3> Robert Speck & Dieter Moser, Sommersemester 2016 </h3>\n", 
    "</center>\n", 
    "___\n"
   ], 
   "cell_type": "markdown", 
   "metadata": {}
  }, 
  {
   "source": [
    "### Das Helmholtz-Problem ###\n", 
    "\n", 
    "1. Implementieren Sie das 1D Helmholtz-Problem $-\\Delta u - \\sigma u = 0$, $u(0) = u(1) = 0$ als neue Problem-Klasse. Dokumentieren Sie Ihren Code angemessen mit Hilfe des Sphinx-Frameworks. Nehmen Sie das Poisson-Problem als Vorlage.\n", 
    "1. Schreiben Sie ein Skript, welches für festes $h$ aber für verschiedene $\\sigma\\in[0,50]$ solange V-Zyklen  ausführt, bis eine Residuumstoleranz von $10^{-10}$ erreicht wird. Konvergiert der Mehrgitter-Algorithmus immer? Plotten Sie die Anzahl der Iterationen gegen $\\sigma$ und interpretieren Sie das Ergebnis. \n", 
    "1. Wählen Sie nun $\\sigma\\in[-50,0]$. Was stellen Sie fest?\n", 
    "\n", 
    "Hinweis: Im `bin`-Ordner gibt die Datei `mg_poisson_test.py`, in dem der MG-Löser testweise aufgerufen wird. \n", 
    "\n", 
    "Erstellen Sie einen Release (welches auch das bearbeitete Notebook enthält) und reichen Sie den Link zum Release ein. Bei Einreichung wird dieses Notebook ausgeführt und erzeugt eine html-Version, die dann zur Korrektur genutzt wird. Achten Sie daher darauf, dass das Notebook ohne Fehler ausführbar ist und alle gewünschten Lösungen/Erklärungen enthält. "
   ], 
   "cell_type": "markdown", 
   "metadata": {}
  }, 
  {
   "execution_count": 1, 
   "cell_type": "code", 
   "source": [
    "%matplotlib inline\n", 
    "import numpy as np\n", 
    "import scipy.linalg as LA\n", 
    "import scipy.sparse.linalg as spLA\n", 
    "\n", 
    "from project.helmholtz import Helmholtz\n", 
    "from project.weighted_jacobi import WeightedJacobi\n", 
    "# from project.gauss_seidel import GaussSeidel\n", 
    "from project.linear_transfer import LinearTransfer\n", 
    "\n", 
    "from project.mymultigrid import MyMultigrid\n", 
    "\n", 
    "if __name__ == \"__main__\":\n", 
    "\n", 
    "    ndofs = 15\n", 
    "    niter_list = []\n", 
    "    for sigma in range(51):\n", 
    "        nlevels = int(np.log2(ndofs+1))\n", 
    "\n", 
    "        prob = Helmholtz(sigma, ndofs)\n", 
    "\n", 
    "        mymg = MyMultigrid(ndofs=ndofs, nlevels=nlevels)\n", 
    "        mymg.attach_transfer(LinearTransfer)\n", 
    "        mymg.attach_smoother(WeightedJacobi,prob.A,omega=2.0/3.0)\n", 
    "        # mymg.attach_smoother(GaussSeidel,prob.A)\n", 
    "\n", 
    "        k = 6\n", 
    "        xvalues = np.array([(i+1) * prob.dx for i in range(prob.ndofs)])\n", 
    "        prob.rhs = (np.pi*k)**2 * np.sin(np.pi*k*xvalues)\n", 
    "\n", 
    "        uex = spLA.spsolve(prob.A, prob.rhs)\n", 
    "\n", 
    "        res = 1\n", 
    "        niter = 0\n", 
    "        err = []\n", 
    "        u = np.zeros(uex.size)\n", 
    "        while res > 1E-10 and niter < 10:\n", 
    "            niter += 1\n", 
    "            u = mymg.do_v_cycle(u, prob.rhs, 2, 2, 0)\n", 
    "            res = LA.norm(prob.A.dot(u)-prob.rhs, np.inf)\n", 
    "            err.append(LA.norm(u-uex, np.inf))\n", 
    "            #print(niter,res,err[-1])\n", 
    "\n", 
    "        niter_list.append(niter)\n", 
    "        \n", 
    "        plt.plot(niter_list)\n", 
    "        plt.show()\n"
   ], 
   "outputs": [
    {
     "output_type": "stream", 
     "name": "stderr", 
     "text": [
      "/home/philip/.pyenv/versions/anaconda2-2.5.0/lib/python2.7/site-packages/matplotlib/font_manager.py:273: UserWarning: Matplotlib is building the font cache using fc-list. This may take a moment.\n", 
      "  warnings.warn('Matplotlib is building the font cache using fc-list. This may take a moment.')\n"
     ]
    }, 
    {
     "ename": "ImportError", 
     "evalue": "No module named project.helmholtz", 
     "traceback": [
      "\u001b[1;31m---------------------------------------------------------------------------\u001b[0m", 
      "\u001b[1;31mImportError\u001b[0m                               Traceback (most recent call last)", 
      "\u001b[1;32m<ipython-input-1-86507b206c87>\u001b[0m in \u001b[0;36m<module>\u001b[1;34m()\u001b[0m\n\u001b[0;32m      4\u001b[0m \u001b[1;32mimport\u001b[0m \u001b[0mscipy\u001b[0m\u001b[1;33m.\u001b[0m\u001b[0msparse\u001b[0m\u001b[1;33m.\u001b[0m\u001b[0mlinalg\u001b[0m \u001b[1;32mas\u001b[0m \u001b[0mspLA\u001b[0m\u001b[1;33m\u001b[0m\u001b[0m\n\u001b[0;32m      5\u001b[0m \u001b[1;33m\u001b[0m\u001b[0m\n\u001b[1;32m----> 6\u001b[1;33m \u001b[1;32mfrom\u001b[0m \u001b[0mproject\u001b[0m\u001b[1;33m.\u001b[0m\u001b[0mhelmholtz\u001b[0m \u001b[1;32mimport\u001b[0m \u001b[0mHelmholtz\u001b[0m\u001b[1;33m\u001b[0m\u001b[0m\n\u001b[0m\u001b[0;32m      7\u001b[0m \u001b[1;32mfrom\u001b[0m \u001b[0mproject\u001b[0m\u001b[1;33m.\u001b[0m\u001b[0mweighted_jacobi\u001b[0m \u001b[1;32mimport\u001b[0m \u001b[0mWeightedJacobi\u001b[0m\u001b[1;33m\u001b[0m\u001b[0m\n\u001b[0;32m      8\u001b[0m \u001b[1;31m# from project.gauss_seidel import GaussSeidel\u001b[0m\u001b[1;33m\u001b[0m\u001b[1;33m\u001b[0m\u001b[0m\n", 
      "\u001b[1;31mImportError\u001b[0m: No module named project.helmholtz"
     ], 
     "output_type": "error"
    }
   ], 
   "metadata": {
    "collapsed": false
   }
  }, 
  {
   "source": [
    "Leider bekomme ich immernoch ImportErrors, aus dem project-Ordner kann nichts geladen werden. Entsprechend sehe ich keinen Plot und kann auch keinen interpretieren. Den Aufruf mit negativen Sigma habe ich mir entsprechend auch gespart."
   ], 
   "cell_type": "markdown", 
   "metadata": {}
  }, 
  {
   "source": [
    "### Der FMG-Zyklus (\"Live-Aufgabe\")###\n", 
    "\n", 
    "Implementieren Sie entweder die rekursive oder die nicht-rekursive Version des FMG-Prediktors mit anschließenden V-Zyklen. Fügen Sie die Funktionalität in die `MyMultigrid`-Klasse ein. Stellen Sie die Entwicklung des Fehlers für das Poisson-Problem grafisch dar, indem Sie für jedes Level (z.B. nach der Grobgitter-Korrektur) den Fehler über die Freiheitsgrade plotten."
   ], 
   "cell_type": "markdown", 
   "metadata": {}
  }, 
  {
   "source": [
    "### Über zyklische Matrizen (Teil 1)\n", 
    "Sei $A$ von der Gestalt\n", 
    "$$A:=\\begin{pmatrix} a_0&a_{n-1}&a_{n-2}&\\ldots&a_1\\\\ a_1&a_0&a_{n-1}&\\ldots&a_2\\\\ a_2&a_1&a_0&\\ldots&a_3\\\\ &\\ddots&\\ddots&\\ddots\\\\ a_{n-1}&a_{n-2}&a_{n-3}&\\ldots&a_0\\end{pmatrix}. $$\n", 
    "\n", 
    "1. Berechnen Sie das charakteristische Polynom, die Eigenwerte, Eigenvektoren und die Determinante von $A$.\n", 
    "1. Seien $B$ und $C$ zyklische miteinander kommutierende Matrizen mit den Eigenwerten $\\{\\beta_k\\},\\{\\zeta_k\\}$.\n", 
    "   Was sind die Eigenwerte von $BC$.\n", 
    "1. Zeigen Sie, dass der Raum der zyklischen Matrizen ein Untervektorraum des $K^{N \\times N}$\n"
   ], 
   "cell_type": "markdown", 
   "metadata": {}
  }, 
  {
   "source": [
    "### Fourier Reihen \n", 
    "\n", 
    "Sei $\\{t_k\\}_{-\\infty}^{\\infty}$ eine absolut summierbare Folge, d.h. $\\sum_{k=-\\infty}^{\\infty}|t_k| < \\infty$.\n", 
    "Sei desweiteren $f(\\lambda) = \\lim_{n \\to \\infty} \\sum_{k=-n}^{n}t_k e^{ik\\lambda}$.\n", 
    "\n", 
    "1. Zeigen Sie, dass $S_n(\\lambda) = \\sum_{k=-n}^{n}t_k e^{ik\\lambda}$ gleichmässig gegen $f(\\lambda)$ konvergiert.\n", 
    "1. Folgern Sie, dass $f(\\lambda)$ Riemann-integrierbar und beschränkt auf $[0,2\\pi]$ ist.\n", 
    "1. Finden Sie mithilfe der inversen Fouriertransformation eine Darstellung von $t_k$ unter Verwendung von $f(\\lambda)$.\n", 
    "\n", 
    "Wir nennen $f(\\lambda)$ eine Funktion der *Wiener Klasse*.\n"
   ], 
   "cell_type": "markdown", 
   "metadata": {}
  }
 ], 
 "metadata": {
  "kernelspec": {
   "display_name": "Python 2", 
   "name": "python2", 
   "language": "python"
  }, 
  "language_info": {
   "mimetype": "text/x-python", 
   "nbconvert_exporter": "python", 
   "name": "python", 
   "file_extension": ".py", 
   "version": "2.7.11", 
   "pygments_lexer": "ipython2", 
   "codemirror_mode": {
    "version": 2, 
    "name": "ipython"
   }
  }
 }
}